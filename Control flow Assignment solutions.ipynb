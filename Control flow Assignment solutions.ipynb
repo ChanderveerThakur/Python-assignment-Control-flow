{
 "cells": [
  {
   "cell_type": "markdown",
   "id": "3214cd61",
   "metadata": {},
   "source": [
    "1. Write a Python program to check if a given number is positive or negative.\n"
   ]
  },
  {
   "cell_type": "code",
   "execution_count": null,
   "id": "bad252c2",
   "metadata": {},
   "outputs": [],
   "source": [
    "a  = int(input('Enter Number: '))\n",
    "if a < 0 :\n",
    "    print(\"Negative\")\n",
    "else:\n",
    "    print(\"Positive\")"
   ]
  },
  {
   "cell_type": "markdown",
   "id": "9992677e",
   "metadata": {},
   "source": [
    "2. Create a program that determines if a person is eligible to vote based on their age.\n"
   ]
  },
  {
   "cell_type": "code",
   "execution_count": null,
   "id": "196ccdf9",
   "metadata": {},
   "outputs": [],
   "source": [
    "a = int(input(\"Enter your Age: \"))\n",
    "if a >= 18:\n",
    "    print(\"You are Eligible to vote.\")\n",
    "else:\n",
    "    print(\"You are not eligible to vote\")"
   ]
  },
  {
   "cell_type": "markdown",
   "id": "2c8b03d9",
   "metadata": {},
   "source": [
    "3. Develop a program to find the maximum of two numbers using if-else statements.\n"
   ]
  },
  {
   "cell_type": "code",
   "execution_count": null,
   "id": "2a57e62c",
   "metadata": {},
   "outputs": [],
   "source": [
    "a = int(input('Enter the first number:'))\n",
    "b = int(input(\"Enter the second number: \"))\n",
    "if a > b :\n",
    "    print(\"Maximum number is:\",a)\n",
    "\n",
    "else:\n",
    "    if a == b:\n",
    "        print(\"Both are Equal\")\n",
    "    else:\n",
    "        print(\"Maximum number is:\", b)"
   ]
  },
  {
   "cell_type": "markdown",
   "id": "5d89e1d5",
   "metadata": {},
   "source": [
    "4. Write a Python script to classify a given year as a leap year or not.\n"
   ]
  },
  {
   "cell_type": "code",
   "execution_count": null,
   "id": "f71805e9",
   "metadata": {},
   "outputs": [],
   "source": [
    "a = int(input(\"Enter the year: \"))\n",
    "if (a%4 == 0 and a%100 != 0 ) or (a%400 == 0):\n",
    "    print(f\"{a} is leap year\")\n",
    "else:\n",
    "    print(f\"{a} is not an leap year\")"
   ]
  },
  {
   "cell_type": "markdown",
   "id": "0816c005",
   "metadata": {},
   "source": [
    "5. Create a program that checks whether a character is a vowel or a consonant.\n"
   ]
  },
  {
   "cell_type": "code",
   "execution_count": null,
   "id": "fe48feff",
   "metadata": {},
   "outputs": [],
   "source": [
    "a = input('Enter the character: ')\n",
    "v = \"aeiouAEIOU\"\n",
    "if a in v:\n",
    "    print(\"Vowel\")\n",
    "else:\n",
    "    print(\"Consonant\")"
   ]
  },
  {
   "cell_type": "markdown",
   "id": "042d2982",
   "metadata": {},
   "source": [
    "6. Implement a program to determine whether a given number is even or odd.\n"
   ]
  },
  {
   "cell_type": "code",
   "execution_count": null,
   "id": "4ee3936a",
   "metadata": {},
   "outputs": [],
   "source": [
    "a = int(input(\"Enter the number: \"))\n",
    "if a%2 == 0:\n",
    "    print(\"Even\")\n",
    "else:\n",
    "    print(\"Odd\")"
   ]
  },
  {
   "cell_type": "markdown",
   "id": "0198e662",
   "metadata": {},
   "source": [
    "7. Write a Python function to calculate the absolute value of a number without using the `abs()` function.\n"
   ]
  },
  {
   "cell_type": "code",
   "execution_count": null,
   "id": "7a8d96fd",
   "metadata": {},
   "outputs": [],
   "source": [
    "a = int(input(\"enter the integer: \"))\n",
    "if a < 0:\n",
    "    print(-a)\n",
    "else:\n",
    "    print(a)"
   ]
  },
  {
   "cell_type": "markdown",
   "id": "c4adca01",
   "metadata": {},
   "source": [
    "8. Develop a program that determines the largest of three given numbers using if-else statements.\n"
   ]
  },
  {
   "cell_type": "code",
   "execution_count": null,
   "id": "71031553",
   "metadata": {},
   "outputs": [],
   "source": [
    "a = int(input(\"Enter first Number: \"))\n",
    "b = int(input(\"Enter second Number: \"))\n",
    "c = int(input(\"Enter third Number: \"))\n",
    "if a > b > c:\n",
    "    print(f\"Largest Number is {a}\")\n",
    "else:\n",
    "    if b > a > c:\n",
    "        print(f\"Largest number is {b}\")\n",
    "    else:\n",
    "        print(f\"Largerst Number is {c}\")"
   ]
  },
  {
   "cell_type": "markdown",
   "id": "17e63cfc",
   "metadata": {},
   "source": [
    "9. Create a program that checks if a given string is a palindrome.\n"
   ]
  },
  {
   "cell_type": "code",
   "execution_count": null,
   "id": "c89d8568",
   "metadata": {},
   "outputs": [],
   "source": [
    "a = input(\"Enter the string: \")\n",
    "if a[:].lower() == a[::-1].lower():\n",
    "    print(True)\n",
    "else:\n",
    "    print(False)\n"
   ]
  },
  {
   "cell_type": "markdown",
   "id": "953416ad",
   "metadata": {},
   "source": [
    "10. Write a Python program to calculate the grade based on a student's score.\n"
   ]
  },
  {
   "cell_type": "code",
   "execution_count": null,
   "id": "d2ebe197",
   "metadata": {},
   "outputs": [],
   "source": [
    "a = int(input(\"Enter the marks: \"))\n",
    "if a <= 50:\n",
    "    print(\"Grade: C\")\n",
    "elif a<= 80:\n",
    "    print(\"Grade: B\")\n",
    "else:\n",
    "    print(\"Grade: A\")"
   ]
  },
  {
   "cell_type": "code",
   "execution_count": null,
   "id": "34a638fb",
   "metadata": {},
   "outputs": [],
   "source": []
  },
  {
   "cell_type": "markdown",
   "id": "33c8d111",
   "metadata": {},
   "source": [
    "# Nested If-Else Statements:\n"
   ]
  },
  {
   "cell_type": "markdown",
   "id": "849b0e03",
   "metadata": {},
   "source": [
    "11. Write a program to find the largest among three numbers using nested if-else statements.\n"
   ]
  },
  {
   "cell_type": "code",
   "execution_count": null,
   "id": "d1d11e2c",
   "metadata": {},
   "outputs": [],
   "source": [
    "a = int(input(\"Enter first Number: \"))\n",
    "b = int(input(\"Enter second Number: \"))\n",
    "c = int(input(\"Enter third Number: \"))\n",
    "\n",
    "if a > b:\n",
    "    if a > c:\n",
    "        print(a)\n",
    "    else:\n",
    "        print(c)\n",
    "elif b > a:\n",
    "    if b > c:\n",
    "        print(b)\n",
    "    else:\n",
    "        print(c)"
   ]
  },
  {
   "cell_type": "markdown",
   "id": "518453fd",
   "metadata": {},
   "source": [
    "12. Implement a program to determine if a triangle is equilateral, isosceles, or scalene.\n"
   ]
  },
  {
   "cell_type": "code",
   "execution_count": null,
   "id": "0e50b54e",
   "metadata": {},
   "outputs": [],
   "source": [
    "a = int(input(\"Enter first Number: \"))\n",
    "b = int(input(\"Enter second Number: \"))\n",
    "c = int(input(\"Enter third Number: \"))\n",
    "\n",
    "if a <= 0 or b <= 0 or c <= 0:\n",
    "    print(\"Invalid side lengths\")\n",
    "if a + b <= c or a + c <= b or b + c <= a:\n",
    "    print( \"Not a valid triangle\")\n",
    "if a == b and b == c:\n",
    "    print (\"Equilateral\")\n",
    "elif a == b or b == c or a == c:\n",
    "    print(\"Isosceles\")\n",
    "else:\n",
    "    print(\"Scalene\")"
   ]
  },
  {
   "cell_type": "markdown",
   "id": "1d92bd76",
   "metadata": {},
   "source": [
    "13. Develop a program that checks if a year is a leap year and also if it is a century year.\n"
   ]
  },
  {
   "cell_type": "code",
   "execution_count": null,
   "id": "17eea94b",
   "metadata": {},
   "outputs": [],
   "source": [
    "a = int(input(\"Enter the year: \"))\n",
    "if (a%4 == 0 and a%100 != 0 ) or (a%400 == 0):\n",
    "    print(f\"{a} is leap year\")\n",
    "else:\n",
    "    print(f\"{a} is not an leap year\") #1800 is not a leap year it is an exceptional case"
   ]
  },
  {
   "cell_type": "markdown",
   "id": "b5b1f4df",
   "metadata": {},
   "source": [
    "14. Write a Python script to determine if a number is positive, negative, or zero.\n"
   ]
  },
  {
   "cell_type": "code",
   "execution_count": null,
   "id": "3a8f9995",
   "metadata": {},
   "outputs": [],
   "source": [
    "a = int(input(\"Enter a number: \"))\n",
    "if a == 0:\n",
    "    print(\"Zero\")\n",
    "if a > 0:\n",
    "    print(\"Positive\")\n",
    "else:\n",
    "    print(\"Negative\")\n"
   ]
  },
  {
   "cell_type": "markdown",
   "id": "2887ad76",
   "metadata": {},
   "source": [
    "15. Create a program to check if a person is a teenager (between 13 and 19 years old).\n"
   ]
  },
  {
   "cell_type": "code",
   "execution_count": null,
   "id": "64f7a9bf",
   "metadata": {},
   "outputs": [],
   "source": [
    "a = int(input('Enter Your Age: '))\n",
    "if a < 13 or a > 19:\n",
    "    print(\"Not Teenager\")\n",
    "else:\n",
    "    print('Teenager') \n"
   ]
  },
  {
   "cell_type": "markdown",
   "id": "afa9d5de",
   "metadata": {},
   "source": [
    "16. Develop a program that determines the type of angle based on its measure (acute, obtuse, or right).\n"
   ]
  },
  {
   "cell_type": "code",
   "execution_count": null,
   "id": "f6d89958",
   "metadata": {},
   "outputs": [],
   "source": [
    "a = float(input(\"Enter the first angle (in degrees): \"))\n",
    "b = float(input(\"Enter the second angle (in degrees): \"))\n",
    "c = float(input(\"Enter the third angle (in degrees): \"))\n",
    "\n",
    "\n",
    "if a == 90 or b == 90 or c == 90:\n",
    "    print(\"Right Angle\")\n",
    "elif a < 90 and b < 90 and c < 90:\n",
    "    print(\"Acute Triangle\")\n",
    "elif a > 90 and b < 90 and c < 90:\n",
    "    print(\"Obtuse Triangle\")\n",
    "elif a > 90 and b > 90 and c < 90:\n",
    "    print(\"Obtuse Triangle\")\n",
    "elif a > 90 and b < 90 and c > 90:\n",
    "    print(\"Obtuse Triangle\")\n",
    "    \n",
    "elif a + b + c != 180:\n",
    "    print(\"Invalid angles for a triangle.\")"
   ]
  },
  {
   "cell_type": "markdown",
   "id": "27dc6a76",
   "metadata": {},
   "source": [
    "17. Write a Python program to calculate the roots of a quadratic equation.\n"
   ]
  },
  {
   "cell_type": "code",
   "execution_count": null,
   "id": "76d052dd",
   "metadata": {},
   "outputs": [],
   "source": [
    "import cmath\n",
    "\n",
    "def quadratic_roots(a, b, c):\n",
    "    # Calculate the discriminant\n",
    "    discriminant = cmath.sqrt(b**2 - 4*a*c)\n",
    "\n",
    "    # Calculate the two possible roots\n",
    "    root1 = (-b + discriminant) / (2 * a)\n",
    "    root2 = (-b - discriminant) / (2 * a)\n",
    "\n",
    "    return root1, root2\n",
    "\n",
    "def main():\n",
    "    print(\"Quadratic equation: ax^2 + bx + c = 0\")\n",
    "    \n",
    "    a = float(input(\"Enter a: \"))\n",
    "    b = float(input(\"Enter b: \"))\n",
    "    c = float(input(\"Enter c: \"))\n",
    "\n",
    "    root1, root2 = quadratic_roots(a, b, c)\n",
    "\n",
    "    print(f\"Root 1: {root1}\")\n",
    "    print(f\"Root 2: {root2}\")\n",
    "\n",
    "if __name__ == \"__main__\":\n",
    "    main()\n"
   ]
  },
  {
   "cell_type": "markdown",
   "id": "2796be4a",
   "metadata": {},
   "source": [
    "18. Implement a program to determine the day of the week based on a user-provided number (1 for Monday, 2 \n",
    "for Tuesday, etc.)."
   ]
  },
  {
   "cell_type": "code",
   "execution_count": null,
   "id": "6ed24801",
   "metadata": {},
   "outputs": [],
   "source": [
    "a = int(input(\"Enter number from 1 to 7: \"))\n",
    "if a == 1 :\n",
    "    print(\"Monday\")\n",
    "if a==2:\n",
    "    print(\"Tuesday\")\n",
    "if a==3:\n",
    "    print(\"Wednesday\")\n",
    "if a==4:\n",
    "    print(\"Thrusday\")\n",
    "if a==5:\n",
    "    print(\"Friday\")\n",
    "if a==6:\n",
    "    print(\"Saturday\")\n",
    "if a==7:\n",
    "    print(\"Sunday\")"
   ]
  },
  {
   "cell_type": "markdown",
   "id": "01f13730",
   "metadata": {},
   "source": [
    "19. Create a program that determines if a year is a leap year and also if it is evenly divisible by 400.\n"
   ]
  },
  {
   "cell_type": "code",
   "execution_count": null,
   "id": "57691271",
   "metadata": {},
   "outputs": [],
   "source": [
    "a = int(input(\"Enter the year: \"))\n",
    "if (a%4 == 0 and a%100 != 0 ) or (a%400 == 0):\n",
    "    print(f\"{a} is leap year\")\n",
    "else:\n",
    "    print(f\"{a} is not an leap year\")"
   ]
  },
  {
   "cell_type": "markdown",
   "id": "025ed419",
   "metadata": {},
   "source": [
    "20. Develop a program that checks if a given number is prime or not using nested if-else statements.\n"
   ]
  },
  {
   "cell_type": "code",
   "execution_count": null,
   "id": "f15bd104",
   "metadata": {},
   "outputs": [],
   "source": [
    "def is_prime(n):\n",
    "    if n <= 1:\n",
    "        return False\n",
    "    elif n <= 3:\n",
    "        return True\n",
    "    # Check if the number is divisible by 2 or 3\n",
    "    elif n % 2 == 0 or n % 3 == 0:\n",
    "        return False\n",
    "    i = 5\n",
    "    while i * i <= n:\n",
    "        if n % i == 0 or n % (i + 2) == 0:\n",
    "            return False\n",
    "        i += 6\n",
    "    return True\n",
    "\n",
    "num = int(input(\"Enter a number: \"))\n",
    "if is_prime(num):\n",
    "    print(f\"{num} is a prime number.\")\n",
    "else:\n",
    "    print(f\"{num} is not a prime number.\")\n"
   ]
  },
  {
   "cell_type": "markdown",
   "id": "86ae328e",
   "metadata": {},
   "source": [
    "# Elif Statements:"
   ]
  },
  {
   "cell_type": "markdown",
   "id": "1078279e",
   "metadata": {},
   "source": [
    "## 21. Write a Python program to assign grades based on different ranges of scores using elif statements.\n"
   ]
  },
  {
   "cell_type": "code",
   "execution_count": null,
   "id": "9ee66568",
   "metadata": {},
   "outputs": [],
   "source": [
    "a = int(input(\"Enter the marks: \"))\n",
    "if a <= 50:\n",
    "    print(\"Grade: D\")\n",
    "elif a <= 60:\n",
    "    print(\"Grade: C\")\n",
    "elif a<= 80:\n",
    "    print(\"Grade: B\")\n",
    "else:\n",
    "    print(\"Grade: A\")"
   ]
  },
  {
   "cell_type": "markdown",
   "id": "56592e5d",
   "metadata": {},
   "source": [
    "22. Implement a program to determine the type of a triangle based on its angles.\n"
   ]
  },
  {
   "cell_type": "code",
   "execution_count": null,
   "id": "e707f9b3",
   "metadata": {},
   "outputs": [],
   "source": [
    "a = float(input(\"Enter the first angle (in degrees): \"))\n",
    "b = float(input(\"Enter the second angle (in degrees): \"))\n",
    "c = float(input(\"Enter the third angle (in degrees): \"))\n",
    "\n",
    "\n",
    "if a == 90 or b == 90 or c == 90:\n",
    "    print(\"Right Angle\")\n",
    "elif a < 90 and b < 90 and c < 90:\n",
    "    print(\"Acute Triangle\")\n",
    "elif a > 90 and b < 90 and c < 90:\n",
    "    print(\"Obtuse Triangle\")\n",
    "elif a > 90 and b > 90 and c < 90:\n",
    "    print(\"Obtuse Triangle\")\n",
    "elif a > 90 and b < 90 and c > 90:\n",
    "    print(\"Obtuse Triangle\")\n",
    "    \n",
    "elif a + b + c != 180:\n",
    "    print(\"Invalid angles for a triangle.\")"
   ]
  },
  {
   "cell_type": "markdown",
   "id": "c213b594",
   "metadata": {},
   "source": [
    "23. Develop a program to categorize a given person's BMI into underweight, normal, overweight, or obese using \n",
    "elif statements"
   ]
  },
  {
   "cell_type": "code",
   "execution_count": null,
   "id": "8c587e3b",
   "metadata": {},
   "outputs": [],
   "source": [
    "a = int(input(\"Enter your's BMI: \"))\n",
    "if a < 18:\n",
    "    print(\"Underweight\")\n",
    "elif a >= 18 and a <= 25:\n",
    "    print(\"Normal\")\n",
    "elif a > 25:\n",
    "    print(\"Obese\")\n"
   ]
  },
  {
   "cell_type": "markdown",
   "id": "039a1081",
   "metadata": {},
   "source": [
    "24. Create a program that determines whether a given number is positive, negative, or zero using elif \n",
    "statements"
   ]
  },
  {
   "cell_type": "code",
   "execution_count": null,
   "id": "c4b79f1b",
   "metadata": {},
   "outputs": [],
   "source": [
    "a= int(input(\"Enter the integer: \"))\n",
    "if a > 0:\n",
    "    print(a,'This is Positive integer')\n",
    "elif a < 0 :\n",
    "    print(a,\"This is negative integer\")\n",
    "else:\n",
    "    print(\"Zero\")"
   ]
  },
  {
   "cell_type": "markdown",
   "id": "9ca582b1",
   "metadata": {},
   "source": [
    "25. Write a Python script to determine the type of a character (uppercase, lowercase, or special) using elif \n",
    "statements."
   ]
  },
  {
   "cell_type": "code",
   "execution_count": null,
   "id": "fd92a99b",
   "metadata": {},
   "outputs": [],
   "source": [
    "a = input('Type single character: ')\n",
    "c=\"!@#$%^&*\"\n",
    "if a in c:\n",
    "    print(\"Special\")\n",
    "elif a == a.upper():\n",
    "    print(\"Uppercase\")\n",
    "    \n",
    "elif a ==a.lower():\n",
    "    print(\"Lowercase\")\n"
   ]
  },
  {
   "cell_type": "markdown",
   "id": "b0e2ae53",
   "metadata": {},
   "source": [
    "26. Implement a program to calculate the discounted price based on different purchase amounts using elif \n",
    "statements."
   ]
  },
  {
   "cell_type": "code",
   "execution_count": null,
   "id": "07a0f7e2",
   "metadata": {},
   "outputs": [],
   "source": [
    "a = int(input(\"Enter the purchase Quantity: \"))\n",
    "discount = 100\n",
    "price_per_quantity = 500\n",
    "if a == 1:\n",
    "    print(Price_per_quantity) # no discount on purchasing single item\n",
    "elif a > 1 and a <=5: \n",
    "    print(price_per_quantity * a - discount) # discount would be 100 on purchasing between 2-5\n",
    "elif a > 5 and a <=10:\n",
    "    print(price_per_quantity * a - discount * 3) # discount would be 300 if customer purchases between 5 -  10\n",
    "else:\n",
    "    print(price_per_quantity * a - discount * 4.5) # discount would be 450 if he purchases more than 10\n",
    "    "
   ]
  },
  {
   "cell_type": "markdown",
   "id": "2e977636",
   "metadata": {},
   "source": [
    "27. Develop a program to calculate the electricity bill based on different consumption slabs using elif \n",
    "statements."
   ]
  },
  {
   "cell_type": "code",
   "execution_count": null,
   "id": "fc07c70d",
   "metadata": {},
   "outputs": [],
   "source": [
    "a = int(input(\"Enter electricity consumption units: \"))\n",
    "p = 5\n",
    "if a <=200:\n",
    "    print(f\"Electricity would be {a*p}\") # under 200 price would be 5 per unit\n",
    "elif a>200 and a<=500:\n",
    "    print(f\"Electricity bill would be {a * (p+2)}\") #between 200-500 price would be 7\n",
    "elif a>500 and a<=1000:\n",
    "    print(f\"Electricity bill would be {a* (p+3)}\")# 500-1000 price would be 8\n",
    "else:\n",
    "    print(f\"Electricity bill would be {a* (p+5)}\")# above 1000 price will be 10 per unit"
   ]
  },
  {
   "cell_type": "markdown",
   "id": "6236ed92",
   "metadata": {},
   "source": [
    "28. Create a program to determine the type of quadrilateral based on its angles and sides using elif \n",
    "statements"
   ]
  },
  {
   "cell_type": "code",
   "execution_count": null,
   "id": "9d0196ae",
   "metadata": {},
   "outputs": [],
   "source": [
    "def classify_quadrilateral(angles, sides):\n",
    "    if len(angles) != 4 or len(sides) != 4:\n",
    "        return \"Invalid input\"\n",
    "    \n",
    "    all_right_angles = all(angle == 90 for angle in angles)\n",
    "\n",
    "    all_sides_equal = len(set(sides)) == 1\n",
    "\n",
    "    opposite_sides_equal = sides[0] == sides[2] and sides[1] == sides[3]\n",
    "    opposite_angles_equal = angles[0] == angles[2] and angles[1] == angles[3]\n",
    "\n",
    "    \n",
    "    if all_right_angles and all_sides_equal:\n",
    "        return \"Square\"\n",
    "    elif all_right_angles:\n",
    "        return \"Rectangle\"\n",
    "    elif all_sides_equal:\n",
    "        return \"Rhombus\"\n",
    "    elif opposite_sides_equal and opposite_angles_equal:\n",
    "        return \"Parallelogram\"\n",
    "    # This might not be fully accurate for trapezoid classification\n",
    "    # It assumes that if there's a pair of opposite angles that are supplementary, we have a trapezoid\n",
    "    elif any(angles[i] + angles[i+2] == 180 for i in [0, 1]):\n",
    "        return \"Trapezoid\"\n",
    "    else:\n",
    "        return \"Quadrilateral\"\n",
    "\n",
    "angles = [float(input(f\"Enter angle {i+1}: \")) for i in range(4)]\n",
    "sides = [float(input(f\"Enter side {i+1}: \")) for i in range(4)]\n",
    "print(f\"The quadrilateral is a {classify_quadrilateral(angles, sides)}\")\n"
   ]
  },
  {
   "cell_type": "markdown",
   "id": "fb2dbd61",
   "metadata": {},
   "source": [
    "29. Write a Python script to determine the season based on a user-provided month using elif statements."
   ]
  },
  {
   "cell_type": "code",
   "execution_count": null,
   "id": "a7bd0d21",
   "metadata": {},
   "outputs": [],
   "source": [
    "def determine_season(month):\n",
    "    if month in [\"December\", \"January\", \"February\"]:\n",
    "        return \"Winter\"\n",
    "    elif month in [\"March\", \"April\", \"May\"]:\n",
    "        return \"Spring\"\n",
    "    elif month in [\"June\", \"July\", \"August\"]:\n",
    "        return \"Summer\"\n",
    "    elif month in [\"September\", \"October\", \"November\"]:\n",
    "        return \"Fall\"\n",
    "    else:\n",
    "        return \"Invalid month\"\n",
    "    \n",
    "month = input(\"Enter the name of the month: \")\n",
    "print(determine_season(month))"
   ]
  },
  {
   "cell_type": "markdown",
   "id": "5e4711af",
   "metadata": {},
   "source": [
    "30. Implement a program to determine the type of a year (leap or common) and month (30 or 31 days) using \n",
    "elif statements."
   ]
  },
  {
   "cell_type": "code",
   "execution_count": null,
   "id": "19239705",
   "metadata": {},
   "outputs": [],
   "source": [
    "def is_leap_year(year):\n",
    "    if (year % 4 == 0 and year % 100 != 0) or (year % 400 == 0):\n",
    "        return True\n",
    "    else:\n",
    "        return False\n",
    "\n",
    "def days_in_month(month, year):\n",
    "    if month in [4, 6, 9, 11]:\n",
    "        return 30\n",
    "    elif month == 2:\n",
    "        if is_leap_year(year):\n",
    "            return 29\n",
    "        else:\n",
    "            return 28\n",
    "    else:\n",
    "        return 31\n",
    "year = int(input(\"Enter a year: \"))\n",
    "\n",
    "if is_leap_year(year):\n",
    "    print(f\"{year} is a leap year.\")\n",
    "else:\n",
    "    print(f\"{year} is a common year.\")\n",
    "\n",
    "month = int(input(\"Enter a month (1-12): \"))\n",
    "\n",
    "if 1 <= month <= 12:\n",
    "    print(f\"{month} has {days_in_month(month, year)} days.\")\n",
    "else:\n",
    "    print(\"Invalid month.\")\n"
   ]
  },
  {
   "cell_type": "markdown",
   "id": "b10dd830",
   "metadata": {},
   "source": [
    "# Basic Level:\n"
   ]
  },
  {
   "cell_type": "markdown",
   "id": "c8abe506",
   "metadata": {},
   "source": [
    "1. Write a Python program that checks if a given number is positive, negative, or zero.\n"
   ]
  },
  {
   "cell_type": "code",
   "execution_count": null,
   "id": "60e09bd8",
   "metadata": {},
   "outputs": [],
   "source": [
    "a= int(input(\"Enter the integer: \"))\n",
    "if a > 0:\n",
    "    print(a,' is Positive integer')\n",
    "elif a < 0 :\n",
    "    print(a,\" is negative integer\")\n",
    "else:\n",
    "    print(\"Zero\")"
   ]
  },
  {
   "cell_type": "markdown",
   "id": "b288658d",
   "metadata": {},
   "source": [
    "2. Create a program to determine if a person is eligible to vote based on their age.\n"
   ]
  },
  {
   "cell_type": "code",
   "execution_count": null,
   "id": "7a4f6903",
   "metadata": {},
   "outputs": [],
   "source": [
    "a = int(input(\"Enter your Age: \"))\n",
    "if a >= 18:\n",
    "    print(\"You are Eligible to vote.\")\n",
    "else:\n",
    "    print(\"You are not eligible to vote\")"
   ]
  },
  {
   "cell_type": "markdown",
   "id": "7df1e897",
   "metadata": {},
   "source": [
    "3. Write a program to find the maximum of two given numbers using conditional statements.\n"
   ]
  },
  {
   "cell_type": "code",
   "execution_count": null,
   "id": "315bdad2",
   "metadata": {},
   "outputs": [],
   "source": [
    "a=int(input(\"Enter first number: \"))\n",
    "b=int(input(\"Enter second number: \"))\n",
    "if a > b:\n",
    "    print(a)\n",
    "else:\n",
    "    print(b)\n"
   ]
  },
  {
   "cell_type": "markdown",
   "id": "db5e7724",
   "metadata": {},
   "source": [
    "4. Develop a program that calculates the grade of a student based on their exam score.\n"
   ]
  },
  {
   "cell_type": "code",
   "execution_count": null,
   "id": "26e8ddf3",
   "metadata": {},
   "outputs": [],
   "source": [
    "a = int(input(\"Enter the marks: \"))\n",
    "if a <= 50:\n",
    "    print(\"Grade: C\")\n",
    "elif a<= 80:\n",
    "    print(\"Grade: B\")\n",
    "else:\n",
    "    print(\"Grade: A\")"
   ]
  },
  {
   "cell_type": "markdown",
   "id": "c7b1eb35",
   "metadata": {},
   "source": [
    "5. Create a program that checks if a year is a leap year or not.\n"
   ]
  },
  {
   "cell_type": "code",
   "execution_count": null,
   "id": "c625cc0e",
   "metadata": {},
   "outputs": [],
   "source": [
    "a = int(input(\"Enter the year: \"))\n",
    "if (a%4 == 0 and a%100 != 0 ) or (a%400 == 0):\n",
    "    print(f\"{a} is leap year\")\n",
    "else:\n",
    "    print(f\"{a} is not an leap year\")\n",
    "    "
   ]
  },
  {
   "cell_type": "markdown",
   "id": "6df22c6c",
   "metadata": {},
   "source": [
    "6. Write a program to classify a triangle based on its sides' lengths.\n"
   ]
  },
  {
   "cell_type": "code",
   "execution_count": null,
   "id": "c31ee2fe",
   "metadata": {},
   "outputs": [],
   "source": [
    "a = float(input(\"Enter the first angle (in degrees): \"))\n",
    "b = float(input(\"Enter the second angle (in degrees): \"))\n",
    "c = float(input(\"Enter the third angle (in degrees): \"))\n",
    "\n",
    "\n",
    "if a == 90 or b == 90 or c == 90:\n",
    "    print(\"Right Angle\")\n",
    "elif a < 90 and b < 90 and c < 90:\n",
    "    print(\"Acute Triangle\")\n",
    "elif a > 90 and b < 90 and c < 90:\n",
    "    print(\"Obtuse Triangle\")\n",
    "elif a > 90 and b > 90 and c < 90:\n",
    "    print(\"Obtuse Triangle\")\n",
    "elif a > 90 and b < 90 and c > 90:\n",
    "    print(\"Obtuse Triangle\")\n",
    "    \n",
    "elif a + b + c != 180:\n",
    "    print(\"Invalid angles for a triangle.\")"
   ]
  },
  {
   "cell_type": "markdown",
   "id": "e5d029a5",
   "metadata": {},
   "source": [
    "7. Build a program that determines the largest of three given numbers.\n"
   ]
  },
  {
   "cell_type": "code",
   "execution_count": null,
   "id": "70264004",
   "metadata": {},
   "outputs": [],
   "source": [
    "a = int(input(\"Enter first Number: \"))\n",
    "b = int(input(\"Enter second Number: \"))\n",
    "c = int(input(\"Enter third Number: \"))\n",
    "\n",
    "if a > b:\n",
    "    if a > c:\n",
    "        print(a)\n",
    "    else:\n",
    "        print(c)\n",
    "elif b > a:\n",
    "    if b > c:\n",
    "        print(b)\n",
    "    else:\n",
    "        print(c)"
   ]
  },
  {
   "cell_type": "markdown",
   "id": "d92daa2c",
   "metadata": {},
   "source": [
    "8. Develop a program that checks whether a character is a vowel or a consonant.\n"
   ]
  },
  {
   "cell_type": "code",
   "execution_count": null,
   "id": "5ee05a49",
   "metadata": {},
   "outputs": [],
   "source": [
    "a = input('Enter the character: ')\n",
    "v = \"aeiouAEIOU\"\n",
    "if a in v:\n",
    "    print(\"Vowel\")\n",
    "else:\n",
    "    print(\"Consonant\")\n",
    "    "
   ]
  },
  {
   "cell_type": "markdown",
   "id": "e811ddd4",
   "metadata": {},
   "source": [
    "9. Create a program to calculate the total cost of a shopping cart based on discounts.\n"
   ]
  },
  {
   "cell_type": "code",
   "execution_count": null,
   "id": "9b29e8ca",
   "metadata": {},
   "outputs": [],
   "source": [
    "a = int(input(\"Enter total cost of shopping: \"))\n",
    "d=100\n",
    "if a < 1000:\n",
    "    print(f\"No discount below 1000, you have to full amount:{a}\")\n",
    "if a >= 1000 and a<=2000:\n",
    "    print(f\"Total cost after discount is:{a - d}\")\n",
    "if a >=2000 and a<=3000:\n",
    "    print(f\"Total cost after discount is:{a - (d*4) }\")\n",
    "if a > 3000:\n",
    "    print(f\"Total cost after discount is:{a-(d*7)}\")\n",
    "else:\n",
    "    print('Invalid')"
   ]
  },
  {
   "cell_type": "markdown",
   "id": "e026e163",
   "metadata": {},
   "source": [
    "10. Write a program that checks if a given number is even or odd.\n"
   ]
  },
  {
   "cell_type": "code",
   "execution_count": null,
   "id": "5714dddd",
   "metadata": {},
   "outputs": [],
   "source": [
    "a = int(input(\"enter number: \"))\n",
    "if a%2==0:\n",
    "    print(\"even\")\n",
    "else:\n",
    "    print(\"odd\")"
   ]
  },
  {
   "cell_type": "markdown",
   "id": "fd83d83c",
   "metadata": {},
   "source": [
    "# Intermediate Level:\n"
   ]
  },
  {
   "cell_type": "markdown",
   "id": "7223f4c4",
   "metadata": {},
   "source": [
    "11. Write a program that calculates the roots of a quadratic equation .\n"
   ]
  },
  {
   "cell_type": "code",
   "execution_count": null,
   "id": "4df279ae",
   "metadata": {},
   "outputs": [],
   "source": [
    "import cmath  \n",
    "\n",
    "def quadratic_roots(a, b, c):\n",
    "    # Calculate the discriminant\n",
    "    D = cmath.sqrt(b**2 - 4*a*c)\n",
    "    \n",
    "    # Calculate the two roots\n",
    "    root1 = (-b + D) / (2 * a)\n",
    "    root2 = (-b - D) / (2 * a)\n",
    "    \n",
    "    return root1, root2\n",
    "\n",
    "a = float(input(\"Enter coefficient a: \"))\n",
    "b = float(input(\"Enter coefficient b: \"))\n",
    "c = float(input(\"Enter coefficient c: \"))\n",
    "\n",
    "r1, r2 = quadratic_roots(a, b, c)\n",
    "\n",
    "print(f\"Root 1: {r1}\")\n",
    "print(f\"Root 2: {r2}\")\n"
   ]
  },
  {
   "cell_type": "markdown",
   "id": "3916899d",
   "metadata": {},
   "source": [
    "12. Create a program that determines the day of the week based on the day number (1-7).\n"
   ]
  },
  {
   "cell_type": "code",
   "execution_count": null,
   "id": "2ad967ba",
   "metadata": {},
   "outputs": [],
   "source": [
    "a = int(input(\"Enter number from 1 to 7: \"))\n",
    "if a == 1 :\n",
    "    print(\"Monday\")\n",
    "if a==2:\n",
    "    print(\"Tuesday\")\n",
    "if a==3:\n",
    "    print(\"Wednesday\")\n",
    "if a==4:\n",
    "    print(\"Thrusday\")\n",
    "if a==5:\n",
    "    print(\"Friday\")\n",
    "if a==6:\n",
    "    print(\"Saturday\")\n",
    "if a==7:\n",
    "    print(\"Sunday\")"
   ]
  },
  {
   "cell_type": "markdown",
   "id": "63cf6fba",
   "metadata": {},
   "source": [
    "13. Develop a program that calculates the factorial of a given number using recursion.\n"
   ]
  },
  {
   "cell_type": "code",
   "execution_count": null,
   "id": "0d6f1c10",
   "metadata": {},
   "outputs": [],
   "source": [
    "def factorial(n):\n",
    "    if n == 0:\n",
    "        return 1\n",
    "    else:\n",
    "        return n * factorial(n-1)\n",
    "num = int(input(\"Enter a number: \"))\n",
    "if num < 0:\n",
    "    print(\"Please enter a non-negative number.\")\n",
    "else:\n",
    "    print(f\"Factorial of {num} is {factorial(num)}\")\n"
   ]
  },
  {
   "cell_type": "markdown",
   "id": "68cc6bcf",
   "metadata": {},
   "source": [
    "14. Write a program to find the largest among three numbers without using the `max()` function.\n"
   ]
  },
  {
   "cell_type": "code",
   "execution_count": null,
   "id": "e82ee5d2",
   "metadata": {},
   "outputs": [],
   "source": [
    "a = int(input(\"Enter first Number: \"))\n",
    "b = int(input(\"Enter second Number: \"))\n",
    "c = int(input(\"Enter third Number: \"))\n",
    "\n",
    "if a > b:\n",
    "    if a > c:\n",
    "        print(a)\n",
    "    else:\n",
    "        print(c)\n",
    "elif b > a:\n",
    "    if b > c:\n",
    "        print(b)\n",
    "    else:\n",
    "        print(c)"
   ]
  },
  {
   "cell_type": "markdown",
   "id": "629454ea",
   "metadata": {},
   "source": [
    "15. Create a program that simulates a basic ATM transaction menu.\n"
   ]
  },
  {
   "cell_type": "code",
   "execution_count": null,
   "id": "46af0ad4",
   "metadata": {},
   "outputs": [],
   "source": [
    "a = int(input(\"\"\"Press 1 for a withdraw\n",
    "Press 2 for a deposit: \"\"\"))\n",
    "c = int(input(\"Enter amount: \"))\n",
    "b = input(\"Enter your account type(Current or Saving): \")\n",
    "if a ==1:\n",
    "    print(f\"Here is your {c} rupees. Thank you! \")\n",
    "else:\n",
    "    print(f\"Your {c} rupees is successfullly deposited. Thank you! \")"
   ]
  },
  {
   "cell_type": "markdown",
   "id": "e351e108",
   "metadata": {},
   "source": [
    "16. Build a program that checks if a given string is a palindrome or not.\n"
   ]
  },
  {
   "cell_type": "code",
   "execution_count": null,
   "id": "a231859e",
   "metadata": {},
   "outputs": [],
   "source": [
    "a = input(\"Enter the string: \")\n",
    "if a[:].lower()==a[::-1].lower():\n",
    "    print(True)\n",
    "else:\n",
    "    print(False)"
   ]
  },
  {
   "cell_type": "markdown",
   "id": "82659411",
   "metadata": {},
   "source": [
    "17. Write a program that calculates the average of a list of numbers, excluding the smallest and largest values.\n"
   ]
  },
  {
   "cell_type": "code",
   "execution_count": null,
   "id": "97971aa7",
   "metadata": {},
   "outputs": [],
   "source": [
    "a = [1,2,3,4,5,6]\n",
    "b=[]\n",
    "c = 0\n",
    "d = 0\n",
    "for i in a:\n",
    "    if i != max(a) and i!=  min(a):\n",
    "        b.append(i)\n",
    "        c = c + 1\n",
    "        d = d + i\n",
    "print(d/c)"
   ]
  },
  {
   "cell_type": "markdown",
   "id": "7baef07f",
   "metadata": {},
   "source": [
    "18. Develop a program that converts a given temperature from Celsius to Fahrenheit.\n"
   ]
  },
  {
   "cell_type": "code",
   "execution_count": null,
   "id": "8029dbe3",
   "metadata": {},
   "outputs": [],
   "source": [
    "a = [5,10,15,20]\n",
    "b=[]\n",
    "for i in a :\n",
    "    celsius = (i - 32) * (5/9) #Conversion formula\n",
    "    b.append(celsius)\n",
    "print(b)"
   ]
  },
  {
   "cell_type": "markdown",
   "id": "dcb62665",
   "metadata": {},
   "source": [
    "19. Create a program that simulates a basic calculator for addition, subtraction, multiplication, and division.\n"
   ]
  },
  {
   "cell_type": "code",
   "execution_count": null,
   "id": "bd9c4f48",
   "metadata": {},
   "outputs": [],
   "source": [
    "a = input(\"Enter any operator (*,/,+,-): \")\n",
    "b = int(input(\"Enter first number: \"))\n",
    "c = int(input(\"Enter second number: \"))\n",
    "if a == '*':\n",
    "    print(b * c)\n",
    "elif a == '/':\n",
    "    print(b/c)\n",
    "elif a =='+':\n",
    "    print(b + c)\n",
    "elif a =='-':\n",
    "    print(b - c)\n",
    "    "
   ]
  },
  {
   "cell_type": "markdown",
   "id": "6c027e87",
   "metadata": {},
   "source": [
    "20. Write a program that determines the roots of a cubic equation using the Cardano formula.\n"
   ]
  },
  {
   "cell_type": "code",
   "execution_count": null,
   "id": "44bb31c0",
   "metadata": {},
   "outputs": [],
   "source": [
    "import cmath\n",
    "\n",
    "def solve_cubic_cardano(a, b, c, d):\n",
    "    p = (3*a*c - b**2) / (3*a**2)\n",
    "    q = (2*b**3 - 9*a*b*c + 27*a**2*d) / (27*a**3)\n",
    "\n",
    "    omega = cmath.exp(2j * cmath.pi / 3)\n",
    "    omega_squared = omega**2\n",
    "\n",
    "    delta = cmath.sqrt(q**2/4 + p**3/27)\n",
    "    \n",
    "    y1 = cmath.cbrt(-q/2 + delta) + cmath.cbrt(-q/2 - delta)\n",
    "    y2 = omega * cmath.cbrt(-q/2 + delta) + omega_squared * cmath.cbrt(-q/2 - delta)\n",
    "    y3 = omega_squared * cmath.cbrt(-q/2 + delta) + omega * cmath.cbrt(-q/2 - delta)\n",
    "\n",
    "    x1 = y1 - b/(3*a)\n",
    "    x2 = y2 - b/(3*a)\n",
    "    x3 = y3 - b/(3*a)\n",
    "\n",
    "    return x1, x2, x3\n",
    "\n",
    "a, b, c, d = 1, -6, 11, -6\n",
    "roots = solve_cubic_cardano(a, b, c, d)\n",
    "print(roots)\n"
   ]
  },
  {
   "cell_type": "markdown",
   "id": "5f55922f",
   "metadata": {},
   "source": [
    "# #Advanced Level:\n"
   ]
  },
  {
   "cell_type": "markdown",
   "id": "d73b7eef",
   "metadata": {},
   "source": [
    "21. Create a program that calculates the income tax based on the user's income and tax brackets.\n"
   ]
  },
  {
   "cell_type": "code",
   "execution_count": null,
   "id": "b7915673",
   "metadata": {},
   "outputs": [],
   "source": [
    "a = int(input(\"Enter your income: \"))\n",
    "b = a - (a - 500000) * .10\n",
    "if a <= 500000:\n",
    "    print(\"No Tax\")\n",
    "if a>=500000 and a <= 1000000:\n",
    "    print(f\"Your income after tax would be {a - (a-500000) * .10}\") \n",
    "if a>1000000 and a<=2000000:\n",
    "    print(f\"Your income after tax would be {a - ((500000  * .10 ) + ((a-1000000) * .20))}\")\n",
    "if a>2000000:\n",
    "    print(f\"Your income after tax would be {a - ((500000 * .10 ) + (1000000 * .20) + ((a - 2000000) * .30))} \")\n",
    " \n"
   ]
  },
  {
   "cell_type": "markdown",
   "id": "1e8d1481",
   "metadata": {},
   "source": [
    "22. Write a program that simulates a rock-paper-scissors game against the computer.\n"
   ]
  },
  {
   "cell_type": "code",
   "execution_count": null,
   "id": "eaf064a0",
   "metadata": {},
   "outputs": [],
   "source": [
    "import random\n",
    "a = input(\"Enter rock paper or scissor: \")\n",
    "b = [\"scissor\",\"rock\",\"paper\"]\n",
    "c = random.choice(b)\n",
    "\n",
    "if a==c:\n",
    "    print(\"Draw\")\n",
    "elif a == 'rock' and  c ==\"scissor\":\n",
    "    print(\"You won\")\n",
    "elif a == \"scissor\" and c == \"paper\":\n",
    "    print(\"You won\")\n",
    "elif a == \"paper\" and c == \"rock\":\n",
    "    print(\"You won\")\n",
    "elif c == 'rock' and  a ==\"scissor\":\n",
    "    print(\"You lost\")\n",
    "elif c == \"scissor\" and a == \"paper\":\n",
    "    print(\"You lost\")\n",
    "elif c == \"paper\" and a == \"rock\":\n",
    "    print(\"You lost\")\n",
    "else:\n",
    "    print(\"invalid\")\n",
    "print(\"Computer choose:\",c)\n"
   ]
  },
  {
   "cell_type": "markdown",
   "id": "ea20e8af",
   "metadata": {},
   "source": [
    "23. Develop a program that generates a random password based on user preferences (length, complexity).\n"
   ]
  },
  {
   "cell_type": "code",
   "execution_count": null,
   "id": "8599dcca",
   "metadata": {},
   "outputs": [],
   "source": [
    "import random\n",
    "\n",
    "complexity = int(input(\"Enter complexity level 1 to 3: \"))\n",
    "length = int(input('Enter the length: '))\n",
    "a =\"abcdefghijklmnopqrstuvwxyzABCDEFGHIJKLMNOPQRSTUVWXYZ\"\n",
    "b = \"!@#$%^&*\"\n",
    "c=\"123456789\"\n",
    "s = \"\"\n",
    "\n",
    "if complexity == 1:   # at 1 level of complexity there would be only alphabets\n",
    "    for i in range(length):\n",
    "        r = random.choice(a)\n",
    "        s+=r\n",
    "        \n",
    "\n",
    "if complexity == 2:    # At 2 level of complexity there would be special char and alphabets\n",
    "    for i in range(length - 2):  \n",
    "        r = random.choice(a)\n",
    "        s+=r\n",
    "    for i in range(2):\n",
    "        r2 = random.choice(b)\n",
    "        s+=r2\n",
    "\n",
    "if complexity == 3:     # 3 level is mixture of numeric, alpha and special\n",
    "    for i in range(length - 4):\n",
    "        r = random.choice(a)\n",
    "        s+=r\n",
    "    for i in range(2):\n",
    "        r2 = random.choice(b)\n",
    "        s+=r2\n",
    "    for i in range(2):\n",
    "        r3 = random.choice(c)\n",
    "        s+=r3\n",
    "\n",
    "print(s)\n",
    "        \n",
    "        "
   ]
  },
  {
   "cell_type": "markdown",
   "id": "6ee22402",
   "metadata": {},
   "source": [
    "24. Create a program that implements a simple text-based adventure game with branching scenarios.\n"
   ]
  },
  {
   "cell_type": "code",
   "execution_count": null,
   "id": "01847290",
   "metadata": {},
   "outputs": [],
   "source": []
  },
  {
   "cell_type": "markdown",
   "id": "3ecb9dc6",
   "metadata": {},
   "source": [
    "25. Build a program that solves a linear equation  for x, considering different cases.\n"
   ]
  },
  {
   "cell_type": "code",
   "execution_count": null,
   "id": "81198bd4",
   "metadata": {},
   "outputs": [],
   "source": [
    "def solve_linear_equation(a, b, c):\n",
    "    if a == 0:\n",
    "        if b == c:\n",
    "            return \"All values of x satisfy the equation.\"\n",
    "        else:\n",
    "            return \"The equation has no solution.\"\n",
    "    else:\n",
    "        x = (c - b) / a\n",
    "        return f\"The solution is x = {x}\"\n",
    "\n",
    "a = float(input(\"Enter the value of a: \"))\n",
    "b = float(input(\"Enter the value of b: \"))\n",
    "c = float(input(\"Enter the value of c: \"))\n",
    "\n",
    "result = solve_linear_equation(a, b, c)\n",
    "print(result)\n"
   ]
  },
  {
   "cell_type": "markdown",
   "id": "bf154166",
   "metadata": {},
   "source": [
    "26. Write a program that simulates a basic quiz game with multiple-choice questions and scoring.\n"
   ]
  },
  {
   "cell_type": "code",
   "execution_count": null,
   "id": "e48908cf",
   "metadata": {},
   "outputs": [],
   "source": [
    "def quiz_game():\n",
    "    score = 0\n",
    "    q1 = input(\"\"\" Q1: What is 2+2: \n",
    "    a: 4  b: 5  c: 6 d: 7  \"\"\")\n",
    "    q2 =input(\"\"\" Q2 How many alphabets in English?\n",
    "    a: 35 b: 26 c: 20 d: 30  \"\"\" )\n",
    "    q3 =input(\"\"\"Q3 How many days in a week?\n",
    "    a: 6 b: 7 c: 8 d: 9\"\"\")\n",
    "    if q1 == \"a\" :\n",
    "        score +=1\n",
    "    if q2 ==\"b\":\n",
    "        score +=1\n",
    "    if q3 ==\"b\":\n",
    "        score +=1\n",
    "    return (f\"Your scored {score} out of 3 \")\n",
    "\n",
    "quiz_game()"
   ]
  },
  {
   "cell_type": "markdown",
   "id": "f60debb1",
   "metadata": {},
   "source": [
    "27. Develop a program that determines whether a given year is a prime number or not.\n"
   ]
  },
  {
   "cell_type": "code",
   "execution_count": null,
   "id": "0d8b5d76",
   "metadata": {},
   "outputs": [],
   "source": [
    "def is_prime(n):\n",
    "    if n <= 1:\n",
    "        return False\n",
    "    if n <= 3:\n",
    "        return True\n",
    "    if n % 2 == 0 or n % 3 == 0:\n",
    "        return False\n",
    "    i = 5\n",
    "    while i * i <= n:\n",
    "        if n % i == 0 or n % (i + 2) == 0:\n",
    "            return False\n",
    "        i += 6\n",
    "    return True\n",
    "\n",
    "year = int(input(\"Enter a year (or any integer): \"))\n",
    "\n",
    "if is_prime(year):\n",
    "    print(f\"{year} is a prime number.\")\n",
    "else:\n",
    "    print(f\"{year} is not a prime number.\")\n"
   ]
  },
  {
   "cell_type": "markdown",
   "id": "b3abff36",
   "metadata": {},
   "source": [
    "28. Create a program that sorts three numbers in ascending order using conditional statements.\n"
   ]
  },
  {
   "cell_type": "code",
   "execution_count": null,
   "id": "2b653458",
   "metadata": {},
   "outputs": [],
   "source": [
    "a = int(input(\"Enter first number: \"))\n",
    "b = int(input(\"Enter second number: \"))\n",
    "c = int(input(\"Enter third number: \"))\n",
    "\n",
    "if a > b and a > c:\n",
    "    if b > c:\n",
    "        print(c,b,a)\n",
    "    else:\n",
    "            print(b,c,a)\n",
    "if b > a and b > c:\n",
    "    if a > c:\n",
    "        print(c,a,b)\n",
    "    else:\n",
    "        print(a,c,b)\n",
    "if c > a and c > b:\n",
    "    if a > b:\n",
    "        print(b,a,c)\n",
    "    else:\n",
    "        print(a,b,c)\n",
    "\n",
    "        \n",
    "\n",
    "    \n",
    "    "
   ]
  },
  {
   "cell_type": "markdown",
   "id": "5b8f3788",
   "metadata": {},
   "source": [
    "29. Build a program that determines the roots of a quartic equation using numerical methods.\n"
   ]
  },
  {
   "cell_type": "code",
   "execution_count": null,
   "id": "994fa67c",
   "metadata": {},
   "outputs": [],
   "source": [
    "def f(x, a, b, c, d, e):\n",
    "    return a*x**4 + b*x**3 + c*x**2 + d*x + e\n",
    "\n",
    "def df(x, a, b, c, d):\n",
    "    return 4*a*x**3 + 3*b*x**2 + 2*c*x + d\n",
    "\n",
    "def newton_raphson(a, b, c, d, e, x0, tol=1e-6, max_iter=1000):\n",
    "    x = x0\n",
    "    for _ in range(max_iter):\n",
    "        x_new = x - f(x, a, b, c, d, e) / df(x, a, b, c, d)\n",
    "        if abs(x_new - x) < tol:\n",
    "            return x_new\n",
    "        x = x_new\n",
    "    return x  \n",
    "\n",
    "a = float(input(\"Enter coefficient a: \"))\n",
    "b = float(input(\"Enter coefficient b: \"))\n",
    "c = float(input(\"Enter coefficient c: \"))\n",
    "d = float(input(\"Enter coefficient d: \"))\n",
    "e = float(input(\"Enter constant e: \"))\n",
    "x0 = float(input(\"Enter initial guess for the root: \"))\n",
    "\n",
    "root = newton_raphson(a, b, c, d, e, x0)\n",
    "print(f\"Approximate root: {root}\")\n",
    "\n"
   ]
  },
  {
   "cell_type": "markdown",
   "id": "dd01294a",
   "metadata": {},
   "source": [
    "30. Write a program that calculates the BMI (Body Mass Index) and provides health recommendations based \n",
    "on the user's input"
   ]
  },
  {
   "cell_type": "code",
   "execution_count": null,
   "id": "d11934bb",
   "metadata": {},
   "outputs": [],
   "source": [
    "w = int(input(\"Enter your weight in kg: \"))\n",
    "h = float(input(\"Enter your height in meters: \"))\n",
    "bmi = w/(h*h)\n",
    "\n",
    "\n",
    "if bmi <= 18.5:\n",
    "    print('Your BMI is', bmi,'which means you are underweight.')\n",
    "\n",
    "elif bmi > 18.5 and bmi < 25:\n",
    "    print('Your BMI is', bmi,'which means you are normal.')\n",
    "\n",
    "elif bmi > 25 and bmi < 30:\n",
    "    print('your BMI is', bmi,'overweight.')\n",
    "\n",
    "elif bmi > 30:\n",
    "    print('Your BMI is', bmi,'which means you are obese.')\n",
    "\n",
    "else:\n",
    "    print('There is an error with your input')\n",
    "    print('Please check you have entered whole numbers\\n'\n",
    "              'and decimals were asked.')\n",
    "\n",
    "bmi"
   ]
  },
  {
   "cell_type": "markdown",
   "id": "7c40fb12",
   "metadata": {},
   "source": [
    "# Challenge Level:\n"
   ]
  },
  {
   "cell_type": "markdown",
   "id": "796cd415",
   "metadata": {},
   "source": [
    "31. Create a program that validates a password based on complexity rules (length, characters, etc.).\n"
   ]
  },
  {
   "cell_type": "code",
   "execution_count": 17,
   "id": "6f9d4572",
   "metadata": {},
   "outputs": [
    {
     "name": "stdout",
     "output_type": "stream",
     "text": [
      "Enter: 123!@Assssd\n",
      "Your password is valid\n"
     ]
    }
   ],
   "source": [
    "def v(password):\n",
    "    if len(password) < 8:\n",
    "        return False\n",
    "    \n",
    "    has_lower = False\n",
    "    has_upper = False\n",
    "    has_digit = False\n",
    "    has_special = False\n",
    "    special_characters = \"!@#$%^&*()\"\n",
    "\n",
    "    for char in password:\n",
    "        if char.islower():\n",
    "            has_lower = True\n",
    "        elif char.isupper():\n",
    "            has_upper = True\n",
    "        elif char.isdigit():\n",
    "            has_digit = True\n",
    "        elif char in special_characters:\n",
    "            has_special = True\n",
    "\n",
    "    return has_lower and has_upper and has_digit and has_special\n",
    "\n",
    "def main():\n",
    "    \n",
    "    \n",
    "    password = input(\"Enter: \")\n",
    "\n",
    "    if v(password):\n",
    "        print(\"Your password is valid\")\n",
    "    else:\n",
    "        print(\"Your password is not valid\")\n",
    "        \n",
    "main()\n",
    "    "
   ]
  },
  {
   "cell_type": "markdown",
   "id": "e7dfdc5d",
   "metadata": {},
   "source": [
    "32. Develop a program that performs matrix addition and subtraction based on user input.\n"
   ]
  },
  {
   "cell_type": "code",
   "execution_count": 16,
   "id": "e510cfa4",
   "metadata": {},
   "outputs": [
    {
     "name": "stdout",
     "output_type": "stream",
     "text": [
      "Enter the value of m\n",
      "2\n",
      "Enter the value of n\n",
      "2\n",
      "Enter Matrix A\n",
      "Enter O[0][0]5\n",
      "Enter O[0][1]6\n",
      "Enter O[1][0]7\n",
      "Enter O[1][1]8\n",
      "[[5, 6], [7, 8]]\n",
      "Enter O[0][0]1\n",
      "Enter O[0][1]2\n",
      "Enter O[1][0]3\n",
      "Enter O[1][1]4\n",
      "[[1, 2], [3, 4]]\n",
      "addtion of two matrix [[6, 8], [10, 12]]\n",
      "Submission of two matrix [[4, 4], [4, 4]]\n"
     ]
    }
   ],
   "source": [
    "m = int(input('Enter the value of m\\n'))\n",
    "n = int(input('Enter the value of n\\n'))\n",
    "print(\"Enter Matrix A\")\n",
    "\n",
    "A = matrix(m,n)\n",
    "print(A)\n",
    "\n",
    "B = matrix(m,n)\n",
    "print(B)\n",
    "\n",
    "def matrix(m,n):\n",
    "    o = []\n",
    "    for i in range(m):\n",
    "        row = []\n",
    "        for j in range(n):\n",
    "            inp = int(input(f\"Enter O[{i}][{j}]\"))\n",
    "            row.append(inp)\n",
    "        o.append(row)\n",
    "    return o \n",
    "\n",
    "def summ(A,B):\n",
    "    output = []\n",
    "    for i in range(len(A)):\n",
    "        row = []\n",
    "        for j in range(len(A[0])):\n",
    "            row.append(A[i][j] + B[i][j])\n",
    "        output.append(row)\n",
    "    return output\n",
    "\n",
    "def sub(A,B):\n",
    "    output = []\n",
    "    for i in range(len(A)):\n",
    "        row = []\n",
    "        for j in range(len(A[0])):\n",
    "            row.append(A[i][j] - B[i][j])\n",
    "        output.append(row)\n",
    "    return output\n",
    "\n",
    "print(\"Addtion of two matrix\",summ(A,B))\n",
    "print(\"Submission of two matrix\",sub(A,B))"
   ]
  },
  {
   "cell_type": "markdown",
   "id": "2dedf6bd",
   "metadata": {},
   "source": [
    "33. Write a program that calculates the greatest common divisor (GCD) of two numbers using the Euclidean \n",
    "algorithm"
   ]
  },
  {
   "cell_type": "code",
   "execution_count": null,
   "id": "3e933e33",
   "metadata": {},
   "outputs": [],
   "source": [
    "def gcd(a: int, b: int) -> int:\n",
    "    \"\"\"\n",
    "    Calculate the Greatest Common Divisor (GCD) of two numbers using the Euclidean algorithm.\n",
    "    \"\"\"\n",
    "    while b:\n",
    "        a, b = b, a % b\n",
    "    return abs(a)\n",
    "\n",
    "def main():\n",
    "    num1 = int(input(\"Enter the first number: \"))\n",
    "    num2 = int(input(\"Enter the second number: \"))\n",
    "\n",
    "    result = gcd(num1, num2)\n",
    "    print(f\"The GCD of {num1} and {num2} is: {result}\")\n",
    "\n",
    "main()\n"
   ]
  },
  {
   "cell_type": "markdown",
   "id": "bf64bade",
   "metadata": {},
   "source": [
    "34. Build a program that performs matrix multiplication using nested loops and conditional statements.\n"
   ]
  },
  {
   "cell_type": "code",
   "execution_count": 14,
   "id": "e5bed5d6",
   "metadata": {},
   "outputs": [
    {
     "name": "stdout",
     "output_type": "stream",
     "text": [
      "Enter the value of m\n",
      "2\n",
      "Enter the value of n\n",
      "2\n",
      "Enter Matrix A\n",
      "Enter O[0][0]1\n",
      "Enter O[0][1]2\n",
      "Enter O[1][0]3\n",
      "Enter O[1][1]4\n",
      "[[1, 2], [3, 4]]\n",
      "Enter O[0][0]1\n",
      "Enter O[0][1]2\n",
      "Enter O[1][0]3\n",
      "Enter O[1][1]4\n",
      "[[1, 2], [3, 4]]\n"
     ]
    },
    {
     "data": {
      "text/plain": [
       "[[1, 4], [9, 16]]"
      ]
     },
     "execution_count": 14,
     "metadata": {},
     "output_type": "execute_result"
    }
   ],
   "source": [
    "m = int(input('Enter the value of m\\n'))\n",
    "n = int(input('Enter the value of n\\n'))\n",
    "print(\"Enter Matrix A\")\n",
    "\n",
    "A = matrix(m,n)\n",
    "print(A)\n",
    "\n",
    "B = matrix(m,n)\n",
    "print(B)\n",
    "\n",
    "def matrix(m,n):\n",
    "    o = []\n",
    "    for i in range(m):\n",
    "        row = []\n",
    "        for j in range(n):\n",
    "            inp = int(input(f\"Enter O[{i}][{j}]\"))\n",
    "            row.append(inp)\n",
    "        o.append(row)\n",
    "    return o \n",
    "\n",
    "def multiply(A,B):\n",
    "    output = []\n",
    "    for i in range(len(A)):\n",
    "        row = []\n",
    "        for j in range(len(A[0])):\n",
    "            row.append(A[i][j] * B[i][j])\n",
    "        output.append(row)\n",
    "    return output\n",
    "\n",
    "multiply(A,B)"
   ]
  },
  {
   "cell_type": "markdown",
   "id": "dea74637",
   "metadata": {},
   "source": [
    "35. Create a program that simulates a basic text-based tic-tac-toe game against the computer.\n"
   ]
  },
  {
   "cell_type": "code",
   "execution_count": null,
   "id": "7a4685e5",
   "metadata": {},
   "outputs": [],
   "source": [
    "import random\n",
    "\n",
    "def print_board(board):\n",
    "    for row in board:\n",
    "        print(\" | \".join(row))\n",
    "        print(\"-\" * 5)\n",
    "\n",
    "def check_winner(board, player):\n",
    "    for row in board:\n",
    "        if all([s == player for s in row]):\n",
    "            return True\n",
    "\n",
    "    for col in range(3):\n",
    "        if all(board[row][col] == player for row in range(3)):\n",
    "            return True\n",
    "\n",
    "    if all(board[i][i] == player for i in range(3)) or all(board[i][2 - i] == player for i in range(3)):\n",
    "        return True\n",
    "\n",
    "    return False\n",
    "\n",
    "def get_empty_positions(board):\n",
    "    positions = []\n",
    "    for i in range(3):\n",
    "        for j in range(3):\n",
    "            if board[i][j] == ' ':\n",
    "                positions.append((i, j))\n",
    "    return positions\n",
    "\n",
    "def player_move(board):\n",
    "    move = None\n",
    "    while move not in get_empty_positions(board):\n",
    "        try:\n",
    "            move = tuple(map(int, input(\"Enter your move (row and column) separated by a space: \").split()))\n",
    "        except ValueError:\n",
    "            pass\n",
    "    return move\n",
    "\n",
    "def computer_move(board):\n",
    "    return random.choice(get_empty_positions(board))\n",
    "\n",
    "def tic_tac_toe():\n",
    "    board = [[' ']*3 for _ in range(3)]\n",
    "    current_player = 'X'  \n",
    "\n",
    "    for _ in range(9):\n",
    "        print_board(board)\n",
    "\n",
    "        if current_player == 'X':\n",
    "            print(\"Player's turn!\")\n",
    "            row, col = player_move(board)\n",
    "        else:\n",
    "            print(\"Computer\")\n",
    "    \n",
    "tic_tac_toe()\n"
   ]
  },
  {
   "cell_type": "markdown",
   "id": "32fb04f9",
   "metadata": {},
   "source": [
    "36. Write a program that generates Fibonacci numbers up to a specified term using iterative methods.\n"
   ]
  },
  {
   "cell_type": "code",
   "execution_count": 20,
   "id": "4b3b204e",
   "metadata": {},
   "outputs": [
    {
     "name": "stdout",
     "output_type": "stream",
     "text": [
      "Enter the value of n to generate Fibonacci numbers up to the nth term: 20\n",
      "Fibonacci numbers up to the 20th term: [0, 1, 1, 2, 3, 5, 8, 13, 21, 34, 55, 89, 144, 233, 377, 610, 987, 1597, 2584, 4181]\n"
     ]
    }
   ],
   "source": [
    "def fibonacci(n):\n",
    "    if n <= 0:\n",
    "        return []\n",
    "    elif n == 1:\n",
    "        return [0]\n",
    "    elif n == 2:\n",
    "        return [0, 1]\n",
    "\n",
    "    fib_series = [0, 1]\n",
    "    for i in range(2, n):\n",
    "        next_fib = fib_series[-1] + fib_series[-2]\n",
    "        fib_series.append(next_fib)\n",
    "    return fib_series\n",
    "\n",
    "num = int(input(\"Enter the value of n to generate Fibonacci numbers up to the nth term: \"))\n",
    "print(f\"Fibonacci numbers up to the {num}th term: {fibonacci(num)}\")\n"
   ]
  },
  {
   "cell_type": "markdown",
   "id": "60a368bb",
   "metadata": {},
   "source": [
    " 37. Develop a program that calculates the nth term of the Fibonacci sequence using memoization.\n"
   ]
  },
  {
   "cell_type": "code",
   "execution_count": 19,
   "id": "a9a42177",
   "metadata": {},
   "outputs": [
    {
     "name": "stdout",
     "output_type": "stream",
     "text": [
      "Enter the value of n to find the nth Fibonacci number: 20\n",
      "The 20th Fibonacci number is: 6765\n"
     ]
    }
   ],
   "source": [
    "def fibonacci(n, memo={}):\n",
    "    if n <= 1:\n",
    "        return n\n",
    "    if n not in memo:\n",
    "        memo[n] = fibonacci(n-1, memo) + fibonacci(n-2, memo)\n",
    "    return memo[n]\n",
    "\n",
    "num = int(input(\"Enter the value of n to find the nth Fibonacci number: \"))\n",
    "print(f\"The {num}th Fibonacci number is: {fibonacci(num)}\")\n"
   ]
  },
  {
   "cell_type": "markdown",
   "id": "fcbac0b7",
   "metadata": {},
   "source": [
    " 38. Create a program that generates a calendar for a given month and year using conditional statements.\n"
   ]
  },
  {
   "cell_type": "code",
   "execution_count": null,
   "id": "8adf0c8a",
   "metadata": {},
   "outputs": [],
   "source": []
  },
  {
   "cell_type": "markdown",
   "id": "801da073",
   "metadata": {},
   "source": [
    " 39. Build a program that simulates a basic text-based blackjack game against the computer.\n"
   ]
  },
  {
   "cell_type": "code",
   "execution_count": null,
   "id": "09502867",
   "metadata": {},
   "outputs": [],
   "source": []
  },
  {
   "cell_type": "markdown",
   "id": "dbcf04fb",
   "metadata": {},
   "source": [
    " 40. Write a program that generates the prime factors of a given number using trial division.\n"
   ]
  },
  {
   "cell_type": "code",
   "execution_count": 18,
   "id": "9d5f60d1",
   "metadata": {},
   "outputs": [
    {
     "name": "stdout",
     "output_type": "stream",
     "text": [
      "Enter a number to find its prime factors: 23\n",
      "Prime factors of 23 are: 23\n"
     ]
    }
   ],
   "source": [
    "def prime_factors(n):\n",
    "    factors = []\n",
    "    \n",
    "    while n % 2 == 0:\n",
    "        factors.append(2)\n",
    "        n //= 2\n",
    "\n",
    "    for i in range(3, int(n**0.5) + 1, 2):\n",
    "        while n % i == 0:\n",
    "            factors.append(i)\n",
    "            n //= i\n",
    "            \n",
    "    if n > 2:\n",
    "        factors.append(n)\n",
    "\n",
    "    return factors\n",
    "\n",
    "num = int(input(\"Enter a number to find its prime factors: \"))\n",
    "factors = prime_factors(num)\n",
    "print(f\"Prime factors of {num} are: {', '.join(map(str, factors))}\")\n"
   ]
  },
  {
   "cell_type": "code",
   "execution_count": null,
   "id": "0e42520f",
   "metadata": {},
   "outputs": [],
   "source": []
  },
  {
   "cell_type": "code",
   "execution_count": null,
   "id": "1c88a4e8",
   "metadata": {},
   "outputs": [],
   "source": []
  },
  {
   "cell_type": "code",
   "execution_count": null,
   "id": "f7d435db",
   "metadata": {},
   "outputs": [],
   "source": []
  },
  {
   "cell_type": "code",
   "execution_count": null,
   "id": "a291d94b",
   "metadata": {},
   "outputs": [],
   "source": []
  },
  {
   "cell_type": "code",
   "execution_count": null,
   "id": "a97cb701",
   "metadata": {},
   "outputs": [],
   "source": []
  },
  {
   "cell_type": "code",
   "execution_count": null,
   "id": "2a1af469",
   "metadata": {},
   "outputs": [],
   "source": []
  },
  {
   "cell_type": "code",
   "execution_count": null,
   "id": "20d39308",
   "metadata": {},
   "outputs": [],
   "source": []
  }
 ],
 "metadata": {
  "kernelspec": {
   "display_name": "Python 3 (ipykernel)",
   "language": "python",
   "name": "python3"
  },
  "language_info": {
   "codemirror_mode": {
    "name": "ipython",
    "version": 3
   },
   "file_extension": ".py",
   "mimetype": "text/x-python",
   "name": "python",
   "nbconvert_exporter": "python",
   "pygments_lexer": "ipython3",
   "version": "3.10.9"
  }
 },
 "nbformat": 4,
 "nbformat_minor": 5
}
